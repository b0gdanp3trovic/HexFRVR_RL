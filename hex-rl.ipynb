{
 "cells": [
  {
   "cell_type": "code",
   "execution_count": null,
   "metadata": {},
   "outputs": [],
   "source": [
    "import gym\n",
    "import queue, threading, time\n",
    "from pynput.keyboard import Key, Listener\n",
    "from PIL import ImageGrab\n",
    "import cv2\n",
    "import numpy as np\n",
    "import pandas as pd\n",
    "import matplotlib.pyplot as plt\n",
    "from matplotlib.patches import RegularPolygon\n",
    "from matplotlib.transforms import Affine2D\n",
    "from matplotlib import pyplot, transforms\n",
    "import matplotlib\n",
    "import mpl_toolkits.axisartist.floating_axes as floating_axes\n",
    "import random\n",
    "from IPython import display\n"
   ]
  },
  {
   "cell_type": "code",
   "execution_count": null,
   "metadata": {},
   "outputs": [],
   "source": [
    "def create_board():\n",
    "    board = []\n",
    "    occupied = {}\n",
    "    for i in range(-4, 5):\n",
    "        for j in range(-4, 5):\n",
    "            for k in range(-4, 5):\n",
    "                if(i+j+k==0):\n",
    "                    board.append([j,k,i])\n",
    "                    occupied[''.join(str(idx) for idx in [j,k,i])] = 0\n",
    "    return board, occupied"
   ]
  },
  {
   "cell_type": "code",
   "execution_count": null,
   "metadata": {},
   "outputs": [],
   "source": [
    "def check_valid(occupied, shape, location):\n",
    "        \n",
    "    if(len(shape) == 1 and type(shape[0][0]) is not int):\n",
    "        shape = shape[0]\n",
    "    loc = ''.join(str(idx) for idx in location) \n",
    "    if(shape[0] == [0,0,0] and shape[1] == [0,0,0] and occupied[loc] == 0):\n",
    "        return True\n",
    "\n",
    "\n",
    "\n",
    "    if(occupied[loc] == 1):\n",
    "        return False\n",
    "    for hex in shape:\n",
    "        place = ''.join(str(location[idx] + loc_hex) for idx, loc_hex in enumerate(hex))\n",
    "        if(place not in occupied):\n",
    "            return False\n",
    "        if(occupied[place]) == 1:\n",
    "            return False\n",
    "    return True"
   ]
  },
  {
   "cell_type": "code",
   "execution_count": null,
   "metadata": {},
   "outputs": [],
   "source": [
    "def remove_lines_filled(occupied):\n",
    "    score = 40\n",
    "    global current_score\n",
    "    rows_to_remove = []\n",
    "    multiplier = 1\n",
    "    row_lens = []\n",
    "    axises = [0, 1, 2]\n",
    "    size = 4\n",
    "    for axis in axises:\n",
    "        for row in range(-size, size+1):\n",
    "            current_row = [x for x in board if x[axis] == row ]\n",
    "            tile_strs = []\n",
    "            for tile in current_row:\n",
    "                tile_strs.append(''.join(str(tl) for tl in tile))\n",
    "            if(all([occupied[tile_str] == 1 for tile_str in tile_strs])):\n",
    "                rows_to_remove.append(tile_strs)\n",
    "                #for tile_str in tile_strs:\n",
    "                #    occupied[tile_str] = 0\n",
    "                row_lens.append(len(current_row))\n",
    "    base = 10 * (len(row_lens) + 1)\n",
    "    for i, row_len in enumerate(row_lens):\n",
    "        # Number of pieces * (base score * 1.2^row index)\n",
    "        score += int(row_len * (math.floor((base * max(1.2**i, 1)))))\n",
    "    for row in rows_to_remove:\n",
    "        for tile_str in row:\n",
    "            occupied[tile_str] = 0\n",
    "    current_score += score\n",
    "    return occupied, row_lens"
   ]
  },
  {
   "cell_type": "code",
   "execution_count": null,
   "metadata": {},
   "outputs": [],
   "source": [
    "def place_shape_search(occupied, shape, location):\n",
    "    if(check_valid(occupied, shape, location)):\n",
    "        if(len(shape) == 1 and type(shape[0][0]) is not int):\n",
    "            shape = shape[0]\n",
    "        for hex in shape:\n",
    "            place = ''.join(str(loc_hex + location[idx]) for idx, loc_hex in enumerate(hex))\n",
    "            occupied[place] = 1\n",
    "    return occupied"
   ]
  },
  {
   "cell_type": "code",
   "execution_count": null,
   "metadata": {},
   "outputs": [],
   "source": [
    "def place_shape(occupied, shape, location):\n",
    "    if(check_valid(occupied, shape, location)):\n",
    "        if(len(shape) == 1 and type(shape[0][0]) is not int):\n",
    "            shape = shape[0]\n",
    "        for hex in shape:\n",
    "            place = ''.join(str(loc_hex + location[idx]) for idx, loc_hex in enumerate(hex))\n",
    "            occupied[place] = 1\n",
    "        occupied, row_lens = remove_lines_filled(occupied)\n",
    "    return occupied, row_lens\n",
    "        \n",
    "            "
   ]
  },
  {
   "cell_type": "code",
   "execution_count": null,
   "metadata": {},
   "outputs": [],
   "source": [
    "def possible_moves(occupied, shape):\n",
    "    valid_moves = []\n",
    "    for tile in board:\n",
    "        if(check_valid(occupied, shape, tile)):\n",
    "            valid_moves.append(tile)\n",
    "    return valid_moves\n"
   ]
  },
  {
   "cell_type": "code",
   "execution_count": null,
   "metadata": {},
   "outputs": [],
   "source": [
    "def draw_board_with_shapes(board, occupied, current_shapes):\n",
    "\n",
    "    coord = board\n",
    "    colors = [\"blue\" if x == 0 else \"green\" for x in occupied.values()]\n",
    "    \n",
    "    print(current_shapes)\n",
    "    for i in range(len(current_shapes)):\n",
    "        if(len(current_shapes[i])) == 1 and len(current_shapes[i][0]) > 1:\n",
    "            current_shapes[i] = current_shapes[i][0]\n",
    "    for i in range(len(current_shapes)):\n",
    "        if(len(current_shapes[i]) == 1 and len(current_shapes[i][0]) == 1):\n",
    "            current_shapes[i] = [[0,0,0]]\n",
    "\n",
    "\n",
    "    \n",
    "\n",
    "# Horizontal cartesian coords\n",
    "    hcoord = [c[0] for c in coord]\n",
    "\n",
    "# Vertical cartersian coords\n",
    "    vcoord = [2. * np.sin(np.radians(60)) * (c[1] - c[2]) /3. for c in coord]\n",
    "\n",
    "\n",
    "\n",
    "    \n",
    "    shape = current_shapes[0]\n",
    "    hcoord_shape1 = [c[0] + 9 for c in shape]\n",
    "    vcoord_shape1 = [2. * np.sin(np.radians(60)) * (c[1] - c[2]) /3. + 6 for c in shape]\n",
    "    \n",
    "    shape2 = current_shapes[1]\n",
    "    hcoord_shape2 = [c[0] + 9 for c in shape2]\n",
    "    vcoord_shape2 = [2. * np.sin(np.radians(60)) * (c[1] - c[2]) /3. for c in shape2]\n",
    "\n",
    "    shape3 = current_shapes[2]\n",
    "    hcoord_shape3 = [c[0] + 9 for c in shape3]\n",
    "    vcoord_shape3 = [2. * np.sin(np.radians(60)) * (c[1] - c[2]) /3. - 6 for c in shape3]\n",
    "\n",
    "    for i in range(len(vcoord)):\n",
    "        temp = vcoord[i]\n",
    "        vcoord[i] = -hcoord[i]\n",
    "        hcoord[i] = temp\n",
    "        \n",
    "    for i in range(len(vcoord_shape1)):\n",
    "        temp = vcoord_shape1[i]\n",
    "        vcoord_shape1[i] = -hcoord_shape1[i]\n",
    "        hcoord_shape1[i] = temp\n",
    "        \n",
    "    for i in range(len(vcoord_shape2)):\n",
    "        temp = vcoord_shape2[i]\n",
    "        vcoord_shape2[i] = -hcoord_shape2[i]\n",
    "        hcoord_shape2[i] = temp\n",
    "        \n",
    "    for i in range(len(vcoord_shape3)):\n",
    "        temp = vcoord_shape3[i]\n",
    "        vcoord_shape3[i] = -hcoord_shape3[i]\n",
    "        hcoord_shape3[i] = temp\n",
    "        \n",
    "\n",
    "\n",
    "    fig, ax = plt.subplots(1, figsize=(15, 15))\n",
    "    plt.xticks([])\n",
    "    plt.yticks([])\n",
    "    \n",
    "    plt.text(0.43,\n",
    "         0.9,\n",
    "         \"Current score: {}\".format(current_score),\n",
    "         transform=plt.gca().transAxes, fontsize=\"medium\")\n",
    "    ax.set_aspect('equal')\n",
    "\n",
    "    # Add some coloured hexagons\n",
    "    for x, y, c in zip(hcoord, vcoord, colors):\n",
    "        color = c[0]\n",
    "        hex = RegularPolygon((x, y), numVertices=6, radius=2. / 3, \n",
    "                             orientation=np.radians(120), facecolor = color,\n",
    "                             alpha=0.3, edgecolor='k')\n",
    "        ax.add_patch(hex)\n",
    "        \n",
    "    for x, y, c in zip(hcoord_shape1, vcoord_shape1, colors):\n",
    "        color = c[0]\n",
    "        hex = RegularPolygon((x, y), numVertices=6, radius=2. / 3, \n",
    "                             orientation=np.radians(60), facecolor = \"blue\",\n",
    "                             alpha=0.3, edgecolor='k')\n",
    "        ax.add_patch(hex)\n",
    "    \n",
    "    for x, y, c in zip(hcoord_shape2, vcoord_shape2, colors):\n",
    "        color = c[0]\n",
    "        hex = RegularPolygon((x, y), numVertices=6, radius=2. / 3, \n",
    "                             orientation=np.radians(60), facecolor = \"blue\",\n",
    "                             alpha=0.3, edgecolor='k')\n",
    "        ax.add_patch(hex)\n",
    "    \n",
    "    for x, y, c in zip(hcoord_shape3, vcoord_shape3, colors):\n",
    "        color = c[0]\n",
    "        hex = RegularPolygon((x, y), numVertices=6, radius=2. / 3, \n",
    "                             orientation=np.radians(60), facecolor = \"blue\",\n",
    "                             alpha=0.3, edgecolor='k')\n",
    "        ax.add_patch(hex)\n",
    "        # Also add a text label\n",
    "    ax.set_xlim([-10,10])\n",
    "    ax.set_ylim([-16,10])\n",
    "    # Also add scatter points in hexagon centres\n",
    "    display.clear_output(wait=True)\n",
    "    #display.display(ax.scatter(hcoord, vcoord, alpha=0.3))\n",
    "    ax.scatter(hcoord, vcoord, alpha=0.3)\n",
    "    plt.show()"
   ]
  },
  {
   "cell_type": "code",
   "execution_count": null,
   "metadata": {},
   "outputs": [],
   "source": [
    "board, current_occupied = create_board()\n",
    "current_shapes = get_random_init_shapes(3)\n",
    "\n",
    "draw_board_with_shapes(board, current_occupied, current_shapes)\n",
    "print(current_shapes)"
   ]
  },
  {
   "cell_type": "code",
   "execution_count": null,
   "metadata": {},
   "outputs": [],
   "source": [
    "def draw_available_shapes(board, current_shapes):\n",
    "    coord = current_shapes[1]\n",
    "    color = \"blue\"\n",
    "    hcoord = [c[0] for c in coord]\n",
    "    vcoord = [2. * np.sin(np.radians(60)) * (c[1] - c[2]) /3. for c in coord]\n",
    "    fig, ax = plt.subplots(1, figsize=(10, 10))\n",
    "    ax.set_aspect('equal')\n",
    "\n",
    "    # Add some coloured hexagons\n",
    "    for x, y in zip(hcoord, vcoord):\n",
    "        hex = RegularPolygon((x, y), numVertices=6, radius=2. / 3, \n",
    "                             orientation=np.radians(120), facecolor = color,\n",
    "                             alpha=0.3, edgecolor='k')\n",
    "        ax.add_patch(hex)\n",
    "        # Also add a text label\n",
    "\n",
    "    # Also add scatter points in hexagon centres\n",
    "    display.clear_output(wait=True)\n",
    "    #display.display(ax.scatter(hcoord, vcoord, alpha=0.3))\n",
    "    ax.scatter(hcoord, vcoord, alpha=0.3)\n",
    "    plt.show()"
   ]
  },
  {
   "cell_type": "code",
   "execution_count": null,
   "metadata": {},
   "outputs": [],
   "source": [
    "def check_moves_left(occupied, shapes):\n",
    "    for shape in shapes:\n",
    "        if(len(possible_moves(occupied, shape)) > 0):\n",
    "            return True\n",
    "    return False"
   ]
  },
  {
   "cell_type": "code",
   "execution_count": null,
   "metadata": {},
   "outputs": [],
   "source": [
    "def generate_board_pos():\n",
    "    board_pos = np.zeros((9,9,9))\n",
    "    for tile in board:\n",
    "        loc = ''.join([str(idx) for idx in tile])\n",
    "        if(occupied[loc] == 1):\n",
    "            board_pos[tile[0]][tile[1]][tile[2]] = 1\n",
    "    return board_pos"
   ]
  },
  {
   "cell_type": "code",
   "execution_count": null,
   "metadata": {},
   "outputs": [],
   "source": [
    "def no_of_lines_filled_and_score(occupied):\n",
    "    multiplier = 0\n",
    "    score = 40\n",
    "    row_lens = []\n",
    "    axises = [0, 1, 2]\n",
    "    size = 4\n",
    "    for axis in axises:\n",
    "        for row in range(-size, size+1):\n",
    "            current_row = [x for x in board if x[axis] == row ]\n",
    "            tile_strs = []\n",
    "            for tile in current_row:\n",
    "                tile_strs.append(''.join(str(tl) for tl in tile))\n",
    "            if(all([occupied[tile_str] == 1 for tile_str in tile_strs])):\n",
    "                row_lens.append(len(current_row))\n",
    "    base = 10 * (len(row_lens) + 1)\n",
    "    for i, row_len in enumerate(row_lens):\n",
    "        # Number of pieces * (base score * 1.2^row index)\n",
    "        score += int(row_len * (math.floor((base * max(1.2**i, 1)))))\n",
    "    return len(row_lens), score"
   ]
  },
  {
   "cell_type": "code",
   "execution_count": null,
   "metadata": {},
   "outputs": [],
   "source": [
    "def no_outside(occupied):\n",
    "    no_holes = 0\n",
    "    for tile in board:\n",
    "        no_filled_neighbors = 0\n",
    "        loc = ''.join([str(idx) for idx in tile])\n",
    "        if(occupied[loc]) == 1:\n",
    "            no_filled_neighbors = 0\n",
    "            x_loc = tile[0]\n",
    "            y_loc = tile[1]\n",
    "            z_loc = tile[2]\n",
    "            num_of_neigh_filled = 0\n",
    "            neigh_locs = [[1, -1, 0], [1, 0, -1], [0, 1, -1], [-1, 1, 0], [-1, 0, 1], [0, -1, 1]]\n",
    "            for x_new, y_new, z_new in neigh_locs:\n",
    "                neigh_coords = [x_loc + x_new, y_loc + y_new, z_loc + z_new]\n",
    "                neigh_loc = ''.join([str(idx) for idx in neigh_coords])\n",
    "                if(neigh_loc in occupied):    \n",
    "                    if(occupied[neigh_loc] == 0):\n",
    "                        no_filled_neighbors += 1\n",
    "            if(no_filled_neighbors >= 0):\n",
    "                no_holes += 1\n",
    "    return no_holes  "
   ]
  },
  {
   "cell_type": "code",
   "execution_count": null,
   "metadata": {},
   "outputs": [],
   "source": [
    "def no_holes(occupied):\n",
    "    no_holes = 0\n",
    "    for tile in board:\n",
    "        no_filled_neighbors = 0\n",
    "        loc = ''.join([str(idx) for idx in tile])\n",
    "        if(occupied[loc]) == 0:\n",
    "            no_filled_neighbors = 0\n",
    "            x_loc = tile[0]\n",
    "            y_loc = tile[1]\n",
    "            z_loc = tile[2]\n",
    "            num_of_neigh_filled = 0\n",
    "            neigh_locs = [[1, -1, 0], [1, 0, -1], [0, 1, -1], [-1, 1, 0], [-1, 0, 1], [0, -1, 1]]\n",
    "            for x_new, y_new, z_new in neigh_locs:\n",
    "                neigh_coords = [x_loc + x_new, y_loc + y_new, z_loc + z_new]\n",
    "                neigh_loc = ''.join([str(idx) for idx in neigh_coords])\n",
    "                if(neigh_loc in occupied):    \n",
    "                    if(occupied[neigh_loc] == 1):\n",
    "                        no_filled_neighbors += 1\n",
    "            if(no_filled_neighbors >= 5):\n",
    "                no_holes += 1\n",
    "    return no_holes  "
   ]
  },
  {
   "cell_type": "code",
   "execution_count": null,
   "metadata": {},
   "outputs": [],
   "source": [
    "def no_tiles_filled(occupied):\n",
    "    no_filled = 0\n",
    "    for value in occupied.values():\n",
    "        no_filled += value\n",
    "    return no_filled\n",
    "        "
   ]
  },
  {
   "cell_type": "code",
   "execution_count": null,
   "metadata": {},
   "outputs": [],
   "source": [
    "possible_shapes=np.asarray([[[-1,0,1],[0,0,0],[1,0,-1],[2,0,-2]],[[-1,1,0],[0,0,0],[1,-1,0],[2,-2,0]],[[0,-1,1],[0,0,0],[0,1,-1],[0,2,-2]],[[0,-1,1],[0,0,0],[0,1,-1],[1,-1,0]],[[0,-1,1],[0,0,0],[0,1,-1],[-1,1,0]],[[-1,1,0],[0,0,0],[1,-1,0],[0,1,-1]],[[-1,1,0],[0,0,0],[1,-1,0],[0,-1,1]],[[-1,0,1],[0,0,0],[1,0,-1],[-1,1,0]],[[-1,0,1],[0,0,0],[1,0,-1],[1,-1,0]],[[0,0,0],[-1,1,0],[-1,0,1],[0,-1,1]],[[0,0,0],[-1,1,0],[1,0,-1],[0,1,-1]],\n",
    "                           [[0,0,0],\n",
    "                            [-1, 1, 0],\n",
    "                            [1, 0, -1],\n",
    "                            [1, 1, -2]],\n",
    "                            [[0,0,0],\n",
    "                            [1, 0, -1],\n",
    "                            [0, 1, -1],\n",
    "                            [0, -1, 1]],\n",
    "                            [[0,0,0],\n",
    "                            [1,-1,0],\n",
    "                            [-1,0,1],\n",
    "                            [-1, -1, 2]],\n",
    "                            [[0,0,0],\n",
    "                            [0,1,-1],\n",
    "                            [1,0,-1],\n",
    "                            [2,-1,-1]],\n",
    "                            [[0,0,0],\n",
    "                            [1,-1,0],\n",
    "                            [2,-2,0],\n",
    "                            [2,-1,-1]],\n",
    "                            [[-1,1,0],\n",
    "                            [0,1,-1],\n",
    "                            [1,0,-1],\n",
    "                            [1,-1,0]],\n",
    "                            [[-1,1,0],\n",
    "                            [-1,0,1],\n",
    "                            [0,-1,1],\n",
    "                            [1,-1,0]],\n",
    "                            [[0,0,0], [0,0,0]],\n",
    "                            [[0,0,0], [0,0,0]],\n",
    "                            [[0,0,0], [0,0,0]],\n",
    "                            [[0,0,0], [0,0,0]],\n",
    "                           ])"
   ]
  },
  {
   "cell_type": "code",
   "execution_count": null,
   "metadata": {},
   "outputs": [],
   "source": [
    "pos = 0\n",
    "board, occupied = create_board()\n",
    "for shape in possible_shapes:\n",
    "    pos += len(possible_moves(occupied, shape))\n",
    "\n",
    "print(pos)\n",
    "    "
   ]
  },
  {
   "cell_type": "code",
   "execution_count": null,
   "metadata": {},
   "outputs": [],
   "source": [
    "current_score = 0"
   ]
  },
  {
   "cell_type": "code",
   "execution_count": null,
   "metadata": {},
   "outputs": [],
   "source": [
    "board, occupied = create_board()"
   ]
  },
  {
   "cell_type": "code",
   "execution_count": null,
   "metadata": {},
   "outputs": [],
   "source": [
    "for shape in possible_shapes:\n",
    "    board, occupied = create_board()\n",
    "\n",
    "    occupied = place_shape(occupied,shape,[0,0,0])[0]\n",
    "    draw_board2(board, occupied)"
   ]
  },
  {
   "cell_type": "code",
   "execution_count": null,
   "metadata": {},
   "outputs": [],
   "source": [
    "board, occupied = create_board()\n",
    "\n",
    "occupied = place_shape(occupied,                             [[0,0,0],\n",
    "                            [1, 0, -1],\n",
    "                            [0, 1, -1],\n",
    "                            [0, -1, 1]], [0,0,0])[0]"
   ]
  },
  {
   "cell_type": "code",
   "execution_count": null,
   "metadata": {},
   "outputs": [],
   "source": [
    "draw_board(board, occupied)"
   ]
  },
  {
   "cell_type": "code",
   "execution_count": null,
   "metadata": {},
   "outputs": [],
   "source": [
    "def get_params(occupied, available_shapes, shape_idx):\n",
    "    pos_moves_cnt = 0\n",
    "    for o_shape in possible_shapes:\n",
    "        pos_moves_cnt += len(possible_moves(occupied, o_shape))\n",
    "    rows_filled, score = no_of_lines_filled_and_score(occupied)\n",
    "    no_outside_v = no_outside(occupied)\n",
    "    no_holes_v = no_holes(occupied)\n",
    "    tiles_filled = no_tiles_filled(occupied)\n",
    "    possible_other_shape = 0\n",
    "    other_shapes = [x for idx, x in enumerate(available_shapes) if idx != shape_idx]\n",
    "\n",
    "    top_next_move = 0\n",
    "    for shape in other_shapes:\n",
    "        pos_moves = possible_moves(occupied, shape)\n",
    "        if(len(pos_moves)) > 0:\n",
    "            possible_other_shape += 1\n",
    "            if(len(pos_moves) < 15):\n",
    "                for move in pos_moves:\n",
    "                    occpd = place_shape_search(copy.deepcopy(occupied), shape, move)\n",
    "                    prms = get_params_in_advance(occpd)\n",
    "                    if(prms > top_next_move):\n",
    "                        top_next_move = prms\n",
    "            \n",
    "    if(top_next_move < -3000):\n",
    "        print(top_next_move)\n",
    "    return [pos_moves_cnt/50, rows_filled/27, score/150, no_outside_v/61, no_holes_v/61, tiles_filled/61, possible_other_shape, top_next_move]\n",
    "    \n",
    "    \n",
    "    "
   ]
  },
  {
   "cell_type": "code",
   "execution_count": null,
   "metadata": {},
   "outputs": [],
   "source": [
    "def get_params_in_advance(occupied):\n",
    "    rows_filled, score = no_of_lines_filled_and_score(occupied)\n",
    "    no_outside_v = no_outside(occupied)\n",
    "    no_holes_v = no_holes(occupied)\n",
    "    tiles_filled = no_tiles_filled(occupied)\n",
    "    \n",
    "    return weights[3]*score/150 + weights[4]*no_outside_v/61 + weights[5] * tiles_filled/61\n",
    "    "
   ]
  },
  {
   "cell_type": "code",
   "execution_count": null,
   "metadata": {},
   "outputs": [],
   "source": [
    "def weight(occupied, shape, shape_idx, location, shapes):\n",
    "    #draw_board(board, occupied)\n",
    "    occupied = place_shape_search(copy.deepcopy(occupied), shape, location)\n",
    "    params = get_params(occupied, shapes, shape_idx)\n",
    "    return weights[0] * params[0] + weights[1] * params[1] + weights[2] * params[2] + weights[3] * params[3] + weights[4] * params[4] + weights[5]*params[5]+ weights[6]*params[6]+weights[7]*params[7],params"
   ]
  },
  {
   "cell_type": "code",
   "execution_count": null,
   "metadata": {},
   "outputs": [],
   "source": [
    "import copy"
   ]
  },
  {
   "cell_type": "code",
   "execution_count": null,
   "metadata": {},
   "outputs": [],
   "source": [
    "def get_best_move(occupied, shapes):\n",
    "    if(epsilon > random.random()):\n",
    "        pos_random = []\n",
    "        for idx, shape in enumerate(shapes):\n",
    "            pos_moves = possible_moves(occupied, shape)\n",
    "            pos_moves = [((shape, x), idx) for x in pos_moves]\n",
    "            pos_random.extend(pos_moves)\n",
    "        choice = random.choice(pos_random)\n",
    "        rand_occupied = place_shape_search(copy.deepcopy(occupied), choice[0][0], choice[0][1])\n",
    "        params = get_params(rand_occupied, shapes, choice[0][1])\n",
    "        return choice[0], choice[1], params\n",
    "    else:\n",
    "        top_weight = -999999999\n",
    "        top_move = None\n",
    "        top_shape_idx = -1\n",
    "        top_params = None\n",
    "        for idx, shape in enumerate(shapes):\n",
    "            pos_moves = possible_moves(occupied, shape)\n",
    "            for pos_move in pos_moves:\n",
    "                cur_weight, cur_params = weight(copy.deepcopy(occupied), shape, idx, pos_move, shapes) \n",
    "                if(cur_weight > top_weight):\n",
    "                    top_weight = cur_weight\n",
    "                    top_move = (shape, pos_move)\n",
    "                    top_shape_idx = idx\n",
    "                    top_params = cur_params\n",
    "        return top_move, top_shape_idx, top_params\n"
   ]
  },
  {
   "cell_type": "code",
   "execution_count": null,
   "metadata": {},
   "outputs": [],
   "source": [
    "def get_random_init_shapes(n):\n",
    "    random_shape_idx = np.random.choice(np.asarray(possible_shapes).shape[0], n, replace=True)\n",
    "    print(random_shape_idx)\n",
    "    return possible_shapes[random_shape_idx]\n",
    "    "
   ]
  },
  {
   "cell_type": "code",
   "execution_count": null,
   "metadata": {},
   "outputs": [],
   "source": [
    "import math\n",
    "import time"
   ]
  },
  {
   "cell_type": "code",
   "execution_count": null,
   "metadata": {},
   "outputs": [],
   "source": [
    "alpha = 0.0005\n",
    "gamma = 0.9\n",
    "epsilon =  0.5\n",
    "#pos_moves #rows_filled #score #no_holes #tiles_filled\n",
    "weights = [1, 1, 1, -1,-1, -1, 1, 1]"
   ]
  },
  {
   "cell_type": "code",
   "execution_count": null,
   "metadata": {},
   "outputs": [],
   "source": [
    "w_change = []\n",
    "w_change.append(copy.deepcopy(weights))"
   ]
  },
  {
   "cell_type": "code",
   "execution_count": null,
   "metadata": {},
   "outputs": [],
   "source": [
    "for episode in range(5000):\n",
    "    print('Episode: ' + str(episode))\n",
    "    current_score = 0\n",
    "    board, current_occupied = create_board()\n",
    "    current_shapes = get_random_init_shapes(3)\n",
    "    shape_idx_g = -1\n",
    "    start = False\n",
    "    while(check_moves_left(copy.deepcopy(current_occupied), current_shapes)):\n",
    "        shapes_to_draw = copy.deepcopy(current_shapes)\n",
    "        draw_board_with_shapes(board, current_occupied, shapes_to_draw)\n",
    "        old_params = []\n",
    "        if(start):\n",
    "            old_params = get_params(copy.deepcopy(current_occupied), current_shapes, shape_idx)\n",
    "            start = True\n",
    "        else:\n",
    "            old_params= [0,0,0,0,0,0,0,0]\n",
    "        start = True\n",
    "        best_move, shape_idx, new_params = get_best_move(copy.deepcopy(current_occupied), current_shapes)\n",
    "        shape_idx_g = shape_idx\n",
    "        current_occupied, row_lens = place_shape(copy.deepcopy(current_occupied), best_move[0], best_move[1])\n",
    "        current_shapes[shape_idx] = get_random_init_shapes(1)\n",
    "        if(epsilon > 0.01):\n",
    "            epsilon *= 0.99\n",
    "        R = -1\n",
    "        if(len(row_lens) > 0):\n",
    "            R = len(row_lens)*3\n",
    "        check_moves_left_b = check_moves_left(copy.deepcopy(current_occupied), current_shapes)\n",
    "        if(not check_moves_left_b):\n",
    "            R = -20\n",
    "        reg_term = 0\n",
    "        if(not check_moves_left_b):\n",
    "            with open(\"train_test.txt\", \"a\") as file:\n",
    "                file.write(str(weights) + ' - ' + str(current_score) + '\\n')\n",
    "            break\n",
    "        for i in range(len(weights)):  \n",
    "            weights[i] = weights[i] + alpha * weights[i] * (R - old_params[i] + gamma * new_params[i])\n",
    "        w_change.append(copy.deepcopy(weights))\n",
    "        #raw_available_shapes(board, current_shapes)\n",
    "        print(weights)\n",
    "        print(current_score)\n",
    "        print(old_params)\n",
    "        print(new_params)\n",
    "        #print(new_params)"
   ]
  },
  {
   "cell_type": "code",
   "execution_count": null,
   "metadata": {},
   "outputs": [],
   "source": [
    "y = [i for i in range(len(w_change))]"
   ]
  },
  {
   "cell_type": "code",
   "execution_count": null,
   "metadata": {},
   "outputs": [],
   "source": [
    "len(w_change)"
   ]
  },
  {
   "cell_type": "code",
   "execution_count": null,
   "metadata": {},
   "outputs": [],
   "source": [
    "w_change"
   ]
  },
  {
   "cell_type": "code",
   "execution_count": null,
   "metadata": {},
   "outputs": [],
   "source": [
    "#pos_moves_cnt/50, rows_filled/27, score/150, no_outside_v/61, no_holes_v/61, tiles_filled/61, possible_other_shape, top_next_move"
   ]
  },
  {
   "cell_type": "code",
   "execution_count": null,
   "metadata": {},
   "outputs": [],
   "source": [
    "pos_moves_cnt = [item[0] for item in w_change]\n",
    "rows_filled = [item[1] for item in w_change]\n",
    "score = [item[2] for item in w_change]\n",
    "no_outside_v = [item[3] for item in w_change]\n",
    "no_holes_v = [item[4] for item in w_change]\n",
    "tiles_filled = [item[5] for item in w_change]\n",
    "possible_other_shape = [item[6] for item in w_change]\n",
    "top_next_move = [item[7] for item in w_change]\n"
   ]
  },
  {
   "cell_type": "code",
   "execution_count": null,
   "metadata": {},
   "outputs": [],
   "source": [
    "plt.rcParams[\"figure.figsize\"] = (10,10)\n",
    "plt.plot(y, pos_moves_cnt, label=\"pos_moves_count\")\n",
    "plt.plot(y, rows_filled, label= \"rows_filled_count\")\n",
    "plt.plot(y, score, label= \"score\")\n",
    "plt.plot(y, no_outside_v, label=\"no_outside_v\")\n",
    "plt.plot(y, no_holes_v, label=\"no_holes\")\n",
    "plt.plot(y, tiles_filled, label=\"tiles_filled\")\n",
    "plt.plot(y, possible_other_shape, label=\"pos_moves_count_other_shapes\")\n",
    "plt.plot(y, top_next_move, label=\"top_next_move\")\n",
    "plt.legend()"
   ]
  },
  {
   "cell_type": "code",
   "execution_count": null,
   "metadata": {},
   "outputs": [],
   "source": [
    "epsilon = 0"
   ]
  },
  {
   "cell_type": "code",
   "execution_count": null,
   "metadata": {},
   "outputs": [],
   "source": [
    "           # pos_moves_cnt,    rows_filled,      score,                no_outside_v,       no_holes_v,         tiles_filled,      possible_other_shape, top_next_move\n",
    "weights = [0.7610649005723227, 2.823322571570037, 4.0529591543780406, -2.824879086006743, -2.786998429649423, -2.824879086006743, 2.297957501337537, 2.7762729966243245]"
   ]
  },
  {
   "cell_type": "code",
   "execution_count": null,
   "metadata": {},
   "outputs": [],
   "source": [
    "### PLAY ###\n",
    "for episode in range(1000):\n",
    "    print('Episode: ' + str(episode))\n",
    "    current_score = 0\n",
    "    board, current_occupied = create_board()\n",
    "    current_shapes = get_random_init_shapes(3)\n",
    "    shape_idx = -1\n",
    "    start = False\n",
    "    while(check_moves_left(copy.deepcopy(current_occupied), current_shapes)):\n",
    "        shapes_to_draw = copy.deepcopy(current_shapes)\n",
    "        old_params = []\n",
    "        if(start):\n",
    "            old_params = get_params(copy.deepcopy(current_occupied), shape_idx)\n",
    "            start = True\n",
    "        else:\n",
    "            old_params= [0,0,0,0,0,0,0,0]\n",
    "        draw_board_with_shapes(board, current_occupied, shapes_to_draw)\n",
    "        best_move, shape_idx, new_params = get_best_move(copy.deepcopy(current_occupied), current_shapes)\n",
    "        occupied_without_r = place_shape_search(copy.deepcopy(current_occupied), best_move[0], best_move[1])\n",
    "        current_occupied, row_lens = place_shape(copy.deepcopy(current_occupied), best_move[0], best_move[1])\n",
    "        current_shapes[shape_idx] = get_random_init_shapes(1)\n",
    "        draw_board_with_shapes(board, occupied_without_r, current_shapes)\n",
    "        #print(current_shapes)\n",
    "        check_moves_left_b = check_moves_left(copy.deepcopy(current_occupied), current_shapes)\n",
    "        if(not check_moves_left_b):\n",
    "            with open(\"scores.txt\", \"a\") as file:\n",
    "                file.write(str(weights) + ' - ' + str(current_score) + '\\n')\n",
    "            break\n",
    "        #draw_board(board, current_occupied)\n",
    "        #raw_available_shapes(board, current_shapes)\n",
    "        #print(weights)\n",
    "        print(current_score)\n",
    "        print(old_params)\n",
    "        print(new_params)\n",
    "        #print(shape_idx)"
   ]
  },
  {
   "cell_type": "code",
   "execution_count": null,
   "metadata": {},
   "outputs": [],
   "source": [
    "from keras.layers import Dense, Activation\n",
    "from keras.models import Sequential, load_model\n",
    "from keras.optimizers import Adam\n",
    "import numpy as np"
   ]
  },
  {
   "cell_type": "code",
   "execution_count": null,
   "metadata": {},
   "outputs": [],
   "source": [
    "class ReplayBuffer(object):\n",
    "    def __init__(self, max_size, input_shape, n_actions, discrete = False):\n",
    "        self.mem_size = max_size\n",
    "        self.input_shape = input_shape\n",
    "        self.discrete = discrete\n",
    "        self.state_memory = np.zeros((self.mem_size, input_shape))\n",
    "        self.new_state_memory = np.zeros((self.mem_size, input_shape))\n",
    "        dtype = np.int8 if self.discrete else np.float32\n",
    "        self.action_memory = np.zeros((self.mem_size, n_actions))\n",
    "        self.reward_memory = np.zeros(self.mem_size)\n",
    "        self.terminal_memory = np.zeros(self.mem_size, dtype=np.float32)\n",
    "    \n",
    "    def store_transition(self, state, action, reward, state_, done):\n",
    "        index = self.mem_cntr % self.mem_size\n",
    "        self.state_memory[index] = state\n",
    "        state.new_state_memory[index] = state_\n",
    "        self.reward_memory[index] = reward\n",
    "        self.terminal_memory[index] = 1 - int(done)\n",
    "        \n",
    "    def sample_buffer(self, batch_size):\n",
    "        max_mem = min(self.mem_cntr, self.mem_size)\n",
    "        batch = np.random.choice(max_mem, batch_size)\n",
    "        \n",
    "        states = self.state_memory[batch]\n",
    "        states_ = self.new_state_memory[batch]\n",
    "        rewards = self.reward_memory[batch]\n",
    "        actions = self.action_memory[batch]\n",
    "        terminal = self.terminal_memory[batch]\n",
    "        \n",
    "        return state_actions, rewards, states_, terminal\n",
    "    \n",
    "    def build_dqn(lr, n_actions, input_dims, fc1_dims, fc2_dims):\n",
    "        model = Sequential([\n",
    "            Dense(fc1_dims, input_shape=(input_dims, )),\n",
    "            Activation('relu'),\n",
    "            Dense(fc2_dims),\n",
    "            Activation('relu'),\n",
    "            Dense(n_actions)\n",
    "        ])\n",
    "        \n",
    "        model.compile(optimizer=Adam(lr = lr), loss = \"mse\")\n",
    "        \n",
    "        return model\n",
    "    \n",
    "class Agent(object):\n",
    "    def __init__(self, alpha, gamma, n_actions, epsilon, batch_size, input_dims, epsilon_dec = 0.996, epsilon_end=0.01,\n",
    "                mem_size=1000000, fname='dqn_model.h5'):\n",
    "        self.action_space = [i for i in range(n_actions)]\n",
    "        self.n_actions = n_actions\n",
    "        self.gamma = gamma\n",
    "        self.epsilon = epsilon\n",
    "        self.epsilon_dec = epsilon_dec\n",
    "        self.epsilon_min = epsilon_end\n",
    "        self.batch_size = batch_size\n",
    "        self.model_file = fname\n",
    "        self.memory = ReplayBuffer(mem_size, input_dims, n_actions, discrete = True)\n",
    "        \n",
    "        self.q_eval = build_dqn(alpha, n_actions, input_dims, 256, 256)\n",
    "        \n",
    "    def remember(self, state, action, reward, new_state, done):\n",
    "        self.memory.store_transition(state, action, reward, new_state, done)\n",
    "        \n",
    "    def choose_action(self, state):\n",
    "        state = state[np.newaxis, :]\n",
    "        rand = np.random.random()\n",
    "        \n",
    "        if(rand < self.random()):\n",
    "            action = np.random.choice(self.action_space)\n",
    "        else:\n",
    "            actions = self.q_eval.predict(state)\n",
    "            action = np.argmax(actions)\n",
    "            \n",
    "    def remember(self, state, action, reward, new_state, done):\n",
    "        self.memory.store_transition(state, action, reward, new_state, done)\n",
    "        \n",
    "    def choose_action(self, state):\n",
    "        state = state[np.newaxis, :]\n",
    "        rand = np.random.random()\n",
    "        if rand < self.epsilon:\n",
    "            action = np.random.choice(self.action_space)\n",
    "        else:\n",
    "            actions = self.q_eval.predict(state)\n",
    "            action = np.argmax(actions)\n",
    "            \n",
    "    def learn(self):\n",
    "        if self.memory.mem_cntr < self.batch_size:\n",
    "            return\n",
    "        state, action, reward, new_state, done = self.memory.sample_buffer(self.batch_size)\n",
    "        action_values = np.array(self.action_space, dtype=np.int8)\n",
    "        action_indices = np.dot(action, action_values)\n",
    "        \n",
    "        q_eval = self.q_eval.predict(state)\n",
    "        q_next = self.q_eval.predict(new_state)\n",
    "        \n",
    "        batch_index = np.arange(self.batch_size, dtype=np.int32)\n",
    "        \n",
    "        q_target[batch_index, action_indices] = reward + self.gamma*np.max(q_next, axis=1)*done\n",
    "            \n",
    "        _ = self.q_eval.fit(state, q_target, verbose = 0)\n",
    "        \n",
    "        self.epsilon = self.epsilon*self.epsilon_dec if self.epsilon > self.epsilon_min else self.epsilon_min\n",
    "        \n",
    "    def save_model(self):\n",
    "        self.q_eval.save(self.model_file)\n",
    "        \n",
    "    def load_model(self):\n",
    "        self.q_eval = load_model(self.model_file)\n",
    "        \n",
    "        "
   ]
  },
  {
   "cell_type": "code",
   "execution_count": null,
   "metadata": {},
   "outputs": [],
   "source": [
    "n_games = 500\n",
    "agent = Agent(gamma = 0.99, epsilon=0.1, alpha = 0.0005, input_dims = 8, n_actions=4, mem_size=1000000, batch_size=64, epsilon_end=0.01)"
   ]
  },
  {
   "cell_type": "code",
   "execution_count": null,
   "metadata": {},
   "outputs": [],
   "source": [
    "file1 = open('kk.txt', 'r')\n",
    "lines = file1.readlines()"
   ]
  },
  {
   "cell_type": "code",
   "execution_count": null,
   "metadata": {},
   "outputs": [],
   "source": [
    "print(Lines)"
   ]
  },
  {
   "cell_type": "code",
   "execution_count": null,
   "metadata": {},
   "outputs": [],
   "source": [
    "lines = [line.strip() for line in lines]"
   ]
  },
  {
   "cell_type": "code",
   "execution_count": null,
   "metadata": {},
   "outputs": [],
   "source": [
    "lines"
   ]
  },
  {
   "cell_type": "code",
   "execution_count": null,
   "metadata": {},
   "outputs": [],
   "source": [
    "x = [int(line.strip()) for line in lines]\n",
    "y = [x for x in range(1, len(lines) + 1)]"
   ]
  },
  {
   "cell_type": "code",
   "execution_count": null,
   "metadata": {},
   "outputs": [],
   "source": [
    "print(sum(x)/len(x))"
   ]
  },
  {
   "cell_type": "code",
   "execution_count": null,
   "metadata": {},
   "outputs": [],
   "source": [
    "print(max(x))"
   ]
  },
  {
   "cell_type": "code",
   "execution_count": null,
   "metadata": {},
   "outputs": [],
   "source": [
    "print(min(x))"
   ]
  },
  {
   "cell_type": "code",
   "execution_count": null,
   "metadata": {},
   "outputs": [],
   "source": [
    "xs, ys = zip(*sorted(zip(y, x)))\n",
    "fig, ax = plt.subplots()\n",
    "print(ys)\n",
    "plt.scatter(xs, ys)"
   ]
  },
  {
   "cell_type": "code",
   "execution_count": null,
   "metadata": {},
   "outputs": [],
   "source": []
  }
 ],
 "metadata": {
  "kernelspec": {
   "display_name": "Python 3",
   "language": "python",
   "name": "python3"
  },
  "language_info": {
   "codemirror_mode": {
    "name": "ipython",
    "version": 3
   },
   "file_extension": ".py",
   "mimetype": "text/x-python",
   "name": "python",
   "nbconvert_exporter": "python",
   "pygments_lexer": "ipython3",
   "version": "3.8.10"
  }
 },
 "nbformat": 4,
 "nbformat_minor": 4
}
